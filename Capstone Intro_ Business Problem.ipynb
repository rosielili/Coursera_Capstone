{
 "cells": [
  {
   "cell_type": "markdown",
   "metadata": {},
   "source": [
    "<h1 align=center><font size = 5> IBM Data Science Certification </font></h1>\n",
    "<h1 align=center><font size = 5> Capstone Project:</font></h1>\n",
    "\n",
    "<h1 align=center><font size = 5> \"Segmenting and Clustering:\"</font></h1>\n",
    "<h1 align=center><font size = 5> The Truth about Miami Neighborhoods.\"</font></h1>\n",
    "<h1 align=center><font size = 3> by Liliya Strong</font></h1>\n",
    "<h1 align=center><font size = 3> July 2021</font></h1>\n"
   ]
  },
  {
   "cell_type": "markdown",
   "metadata": {},
   "source": [
    "## Introduction: Business Problem <a name=\"introduction\"></a>"
   ]
  },
  {
   "cell_type": "markdown",
   "metadata": {},
   "source": [
    "In this project, I will try to find optimal neighborhoods to live in in the Miami area. To that end, I analyze different databases describing crime rates, school locations, typical home/condo prices, and things to do or places to go within each neighborhood. This report will be targeted to stakeholders interested in buying a property (house/condo) in **Miami**, FL, USA. It will help to identify the best neighborhoods to live.\n",
    "\n",
    "Miami is a beautiful coastal city in the USA. Its growing metropolitan area is blessed with a favorable climate and a low tax environment. Inspired by the famous real estate axiom \"Location, location, and location,\" I put together **a detailed table describing location characteristics of each neighborhood in Miami**. I'm interested to see if walking proximity to schools, beaches, golf courses, many restaurants, or places you could go to exercise, do shopping, or do cultural activities influence property prices. I'll use **data science tools of visualization and k-means clustering algorithm** to group the neighborhoods into clusters. The conclusion of differences/similarities between Miami neighborhoods will be useful for not only prospective buyers out of town but also local real estate brokers."
   ]
  },
  {
   "cell_type": "code",
   "execution_count": null,
   "metadata": {},
   "outputs": [],
   "source": []
  }
 ],
 "metadata": {
  "kernelspec": {
   "display_name": "Python 3",
   "language": "python",
   "name": "python3"
  },
  "language_info": {
   "codemirror_mode": {
    "name": "ipython",
    "version": 3
   },
   "file_extension": ".py",
   "mimetype": "text/x-python",
   "name": "python",
   "nbconvert_exporter": "python",
   "pygments_lexer": "ipython3",
   "version": "3.8.5"
  }
 },
 "nbformat": 4,
 "nbformat_minor": 4
}
