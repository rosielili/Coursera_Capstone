{
 "cells": [
  {
   "cell_type": "markdown",
   "metadata": {},
   "source": [
    "## Data <a name=\"data\"></a>"
   ]
  },
  {
   "cell_type": "markdown",
   "metadata": {},
   "source": [
    "I based my analysis on the following databases, APIs, libraries:\n",
    "\n",
    "* Miami's neighborhood list and its typical home prices from **Zillow Database**. Zillow website provides the Zillow Home Value Index (ZHVI): A smoothed, seasonally adjusted measure of the typical home value and market changes across a given region and housing type. It reflects the typical value for homes in the 35th to 65th percentile range. I used the latest available dataset from the end of May, 2021.\n",
    " Source: https://www.zillow.com/research/data/\n",
    "\n",
    "\n",
    "* Use **Google API** to get the latitude and longitude coordinates for Miami neighborhoods.  \n",
    "\n",
    "\n",
    "* Venue names, location and venue categories for each neighborhood from **Foursquare API**\n",
    "\n",
    "\n",
    "* List of all schools and their GPS coordinates (latitude and longitude) from **Miami-Dade County’s open data hub**. The list includes all educational organizations in the broad sense, such as primary learning centers, elementary/middle/high schools, k-8 centers, alternative/charter/magnet schools, and specialized centers. Source: https://gis-mdc.opendata.arcgis.com/datasets/private-school?geometry=-81.005%2C25.493%2C-79.921%2C25.926\n",
    "\n",
    "\n",
    "* The number of violent crimes per 100,000 people for each neighborhood of Miami. Violent crimes include My results might be surprising for some Miami locals (including me) because the violent crime rate (murder, rape, robbery, and assault) is higher than it is perceived. This makes sense if you look on the map to see how Google API determines the abbreviation for a particular neighborhood. For example, Brickell, Downtown, Wynwood/Edgewater areas crime rate is double Miami's average. These neighborhoods are much bigger than the perceived narrow strip along the water, where some high-rise luxury residential condominiums along Brickell Ave, Biscayne Blvd, and Edgewater of Wynwood. Yet, the neighborhoods don't end there but go much further inland, where unfortunately still a lot of poverty, homeless people, and crime. Also, I used two years old data from the FBI, which only published calendar 2020 data in September of 2021. The situation might have improved since then. The most current data is from September, 2020 for 2019 calendar year. Source: **Area Vibes website**, which compiles data from FBI and local law enforcement agency and when not available, also includes estimates based on demographic data. https://www.areavibes.com/miami-fl/most-dangerous-neighborhoods/\n",
    "\n"
   ]
  },
  {
   "cell_type": "markdown",
   "metadata": {},
   "source": [
    "## Methodology <a name=\"methodology\"></a>"
   ]
  },
  {
   "cell_type": "markdown",
   "metadata": {},
   "source": [
    "To compare and contrast different neighborhoods in Miami, I did the following:\n",
    "\n",
    "1. Get Miami neighborhoods’ names and typical property prices for each neighborhood from **Zillow** database \n",
    "2. Use **Google API** to get latitude and longitude for each neighborhood. Combine GPS coordinates into “mia_neigh” data frame\n",
    "3. Visualize the map of Miami neighborhoods using **Folio** library.\n",
    "4. Using **Foursquare API**, I’ll build a data frame “mia_venues” with up to 100 different venues in each neighborhood of Miami. Calculate the frequency of different venue categories in each neighborhood. And finally, sort and keep top 10 most frequent venues for each neighborhood  (“neighborhoods_venues_sorted” dataframe.) \n",
    "5. Calculate frequency of venues where one could go to eat (“Restaurant Freq”), go shopping (“Store Freq”), exercise ( “Sport Freq”), go for cultural activities (“Art Freq”) within walking distance. Finally, if there is water or beach nearby, or \"Waterfront\" characteristic. The walking distance I defined as 1 mile or 1610 meters or 20 min walk\n",
    "6. Calculate a school count in each neighborhood. Foursquare doesn’t provide a comprehensive list of educational facilities, so I use **Miami-Dade County’s open data**.  I’ll load and clean the data. Then, calculate the distance to each neighborhood, and finally count the number of schools.\n",
    "7. Use the number of violent crimes per 100,000 people for each neighborhood of Miami from **Area Vibes website**, which compiles data from FBI and local law enforcement agency and when not available, also includes estimates based on demographic data. \n",
    "8. Combine “mia_neigh” from [2] to steps [5-7] to a new data frame called “mia_merged”. See if there is any **correlation** within neighborhood characteristics in table “mia_merged.\"\n",
    "9. Use **k-means clustering algorithm** to group the neighborhoods into clusters. Visualize clustered (similar) neighborhoods on the map of Miami\n",
    "10. **Results and discussion.** Provide descriptions to each cluster based on the results from the map [9],“neighborhoods_venues_sorted” table [4], “mia_merged” and correlations [8] \n",
    "\n"
   ]
  },
  {
   "cell_type": "code",
   "execution_count": null,
   "metadata": {},
   "outputs": [],
   "source": []
  }
 ],
 "metadata": {
  "kernelspec": {
   "display_name": "Python 3",
   "language": "python",
   "name": "python3"
  },
  "language_info": {
   "codemirror_mode": {
    "name": "ipython",
    "version": 3
   },
   "file_extension": ".py",
   "mimetype": "text/x-python",
   "name": "python",
   "nbconvert_exporter": "python",
   "pygments_lexer": "ipython3",
   "version": "3.8.5"
  }
 },
 "nbformat": 4,
 "nbformat_minor": 4
}
